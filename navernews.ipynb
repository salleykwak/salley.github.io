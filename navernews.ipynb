{
  "nbformat": 4,
  "nbformat_minor": 0,
  "metadata": {
    "colab": {
      "name": "Untitled1.ipynb",
      "provenance": [],
      "authorship_tag": "ABX9TyPZjFCdlkeYDojCWxp5tcjW",
      "include_colab_link": true
    },
    "kernelspec": {
      "name": "ir",
      "display_name": "R"
    },
    "language_info": {
      "name": "R"
    }
  },
  "cells": [
    {
      "cell_type": "markdown",
      "metadata": {
        "id": "view-in-github",
        "colab_type": "text"
      },
      "source": [
        "<a href=\"https://colab.research.google.com/github/salleykwak/salleykwak.github.io/blob/master/navernews.ipynb\" target=\"_parent\"><img src=\"https://colab.research.google.com/assets/colab-badge.svg\" alt=\"Open In Colab\"/></a>"
      ]
    },
    {
      "cell_type": "code",
      "metadata": {
        "colab": {
          "base_uri": "https://localhost:8080/",
          "height": 381
        },
        "id": "nDMagWgM1cya",
        "outputId": "54f68052-8d15-41f4-f0de-55ecc1e60d53"
      },
      "source": [
        "install.packages(\"RCurl\")\n",
        "install.packages(\"XML\")\n",
        "install.packages(\"readr\")\n",
        "install.packages(\"stringr\")\n",
        "install.packages(\"rvest\")\n",
        "\n",
        "library(RCurl)\n",
        "library(XML)\n",
        "library(readr)\n",
        "library(stringr)\n",
        "library(rvest)\n",
        "\n",
        "naver.news.link1=c()\n",
        "enc <-\"UTF-8\"\n",
        "for (i in 1:90){\n",
        "  url.temp <- paste(\"https://search.naver.com/search.naver?where=news&sm=tab_pge&query=%EB%B9%84%ED%8A%B8%EC%BD%94%EC%9D%B8&sort=0&photo=0&field=0&pd=3&ds=2021.05.01&de=2021.05.17&cluster_rank=25&mynews=1&office_type=1&office_section_code=3&news_office_checked=1009&nso=so:r,p:from20210501to20210517,a:all&start=\",(i-1)*10+1)\n",
        "  url.temp <-gsub(\" \",\"\",url.temp )\n",
        "  html.temp <-getURL(url.temp,encoding=enc)\n",
        "  html.temp.parsed <-htmlParse(html.temp, encoding=enc)\n",
        "  news.temp.link1 <- xpathSApply(html.temp.parsed, \"//div[@class='info_group']/a\",xmlGetAttr,\"href\")\n",
        "  naver.news.link1=c(naver.news.link1,news.temp.link1[new+s.temp.link1!='http://www.mk.co.kr/'])\n",
        "}\n",
        "\n",
        "naver.news.link1 <- unique(naver.news.link1)\n",
        "length(naver.news.link1)\n",
        "\n",
        "for (j in 1:length(naver.news.link1)){\n",
        "  #for (j in 1:2){\n",
        "  \n",
        "  url.news = naver.news.link1[j]\n",
        "  #enc.news <- as.character(guess_encoding(file=url.news)[1,1])\n",
        "  html.news <-read_html(url.news)\n",
        "  html.news.parsed <-htmlParse(html.news, encoding=enc)\n",
        "  news.contents <- xpathSApply(html.news.parsed, \"//div[@id='articleBodyContents']\",xmlValue)\n",
        "  news.contents\n",
        "  news.contents <- gsub(\"[\\r\\n\\t\\\\']\",\"\",news.contents)\n",
        "  news.contents <- gsub(\"\\\\[.*?\\\\]\",\"\",news.contents)\n",
        "  #news.contents <- gsub(\"[]\",\"\",news.contents)\n",
        "  news.contents <- gsub(\" flash 오류를 우회하기 위한 함수 추가function _flash_removeCallback\",\"\",news.contents)\n",
        "  news.contents <- gsub(\"▶ 경제 1위 매일경제, 네이버에서 구독하세요▶ 이 제품은 이렇게 만들죠 영상으로 만나요▶ 부동산의 모든것 매부리TV가 펼칩니다\",\"\",news.contents)\n",
        "  news.contents <- gsub(\"[\\\\'\\\\//(){}]\",\"\",news.contents)\n",
        "  \n",
        "  news.contents.result=c(news.contents.result,news.contents)\n",
        "}\n",
        "\n",
        "length(news.contents.result)"
      ],
      "execution_count": null,
      "outputs": [
        {
          "output_type": "stream",
          "text": [
            "Installing package into ‘/usr/local/lib/R/site-library’\n",
            "(as ‘lib’ is unspecified)\n",
            "\n",
            "Installing package into ‘/usr/local/lib/R/site-library’\n",
            "(as ‘lib’ is unspecified)\n",
            "\n",
            "Installing package into ‘/usr/local/lib/R/site-library’\n",
            "(as ‘lib’ is unspecified)\n",
            "\n",
            "Installing package into ‘/usr/local/lib/R/site-library’\n",
            "(as ‘lib’ is unspecified)\n",
            "\n",
            "Installing package into ‘/usr/local/lib/R/site-library’\n",
            "(as ‘lib’ is unspecified)\n",
            "\n"
          ],
          "name": "stderr"
        },
        {
          "output_type": "error",
          "ename": "ERROR",
          "evalue": "ignored",
          "traceback": [
            "Error in eval(expr, envir, enclos): object 's.temp.link1' not found\nTraceback:\n"
          ]
        }
      ]
    },
    {
      "cell_type": "code",
      "metadata": {
        "id": "rIZx_Pb74FCs"
      },
      "source": [
        ""
      ],
      "execution_count": null,
      "outputs": []
    }
  ]
}